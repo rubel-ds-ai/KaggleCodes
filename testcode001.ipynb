{
 "cells": [
  {
   "cell_type": "code",
   "execution_count": 1,
   "id": "5f6d429f",
   "metadata": {
    "_cell_guid": "b1076dfc-b9ad-4769-8c92-a6c4dae69d19",
    "_uuid": "8f2839f25d086af736a60e9eeb907d3b93b6e0e5",
    "execution": {
     "iopub.execute_input": "2025-08-13T10:23:28.765250Z",
     "iopub.status.busy": "2025-08-13T10:23:28.764859Z",
     "iopub.status.idle": "2025-08-13T10:23:28.775515Z",
     "shell.execute_reply": "2025-08-13T10:23:28.774589Z"
    },
    "papermill": {
     "duration": 0.015316,
     "end_time": "2025-08-13T10:23:28.776991",
     "exception": false,
     "start_time": "2025-08-13T10:23:28.761675",
     "status": "completed"
    },
    "tags": []
   },
   "outputs": [
    {
     "name": "stdout",
     "output_type": "stream",
     "text": [
      "Hello from Kaggle!\n"
     ]
    }
   ],
   "source": [
    "print(\"Hello from Kaggle!\")\n",
    "#test"
   ]
  },
  {
   "cell_type": "code",
   "execution_count": null,
   "id": "88a1541e",
   "metadata": {
    "papermill": {
     "duration": 0.001229,
     "end_time": "2025-08-13T10:23:28.780135",
     "exception": false,
     "start_time": "2025-08-13T10:23:28.778906",
     "status": "completed"
    },
    "tags": []
   },
   "outputs": [],
   "source": []
  }
 ],
 "metadata": {
  "kaggle": {
   "accelerator": "none",
   "dataSources": [],
   "dockerImageVersionId": 31089,
   "isGpuEnabled": false,
   "isInternetEnabled": false,
   "language": "python",
   "sourceType": "notebook"
  },
  "kernelspec": {
   "display_name": "Python 3",
   "language": "python",
   "name": "python3"
  },
  "language_info": {
   "codemirror_mode": {
    "name": "ipython",
    "version": 3
   },
   "file_extension": ".py",
   "mimetype": "text/x-python",
   "name": "python",
   "nbconvert_exporter": "python",
   "pygments_lexer": "ipython3",
   "version": "3.11.13"
  },
  "papermill": {
   "default_parameters": {},
   "duration": 5.505283,
   "end_time": "2025-08-13T10:23:29.202238",
   "environment_variables": {},
   "exception": null,
   "input_path": "__notebook__.ipynb",
   "output_path": "__notebook__.ipynb",
   "parameters": {},
   "start_time": "2025-08-13T10:23:23.696955",
   "version": "2.6.0"
  }
 },
 "nbformat": 4,
 "nbformat_minor": 5
}
